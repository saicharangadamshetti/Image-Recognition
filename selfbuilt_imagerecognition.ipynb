{
  "nbformat": 4,
  "nbformat_minor": 0,
  "metadata": {
    "colab": {
      "name": "selfbuilt_imagerecognition.ipynb",
      "provenance": []
    },
    "kernelspec": {
      "name": "python3",
      "display_name": "Python 3"
    }
  },
  "cells": [
    {
      "cell_type": "code",
      "metadata": {
        "id": "MO3L5qtCfST0",
        "colab_type": "code",
        "colab": {}
      },
      "source": [
        "  import numpy\n",
        "  from keras.models import Sequential\n",
        "  from keras.layers import Dense, Dropout, Flatten, BatchNormalization, Activation\n",
        "  from keras.layers.convolutional import Conv2D, MaxPooling2D\n",
        "  from keras.constraints import maxnorm\n",
        "  from keras.utils import np_utils\n",
        "  import cv2\n",
        "  from google.colab.patches import cv2_imshow\n",
        "  from keras.datasets import cifar100\n",
        "  from keras.preprocessing.image import img_to_array, load_img"
      ],
      "execution_count": 0,
      "outputs": []
    },
    {
      "cell_type": "code",
      "metadata": {
        "id": "slz2xsQ93FIT",
        "colab_type": "code",
        "colab": {}
      },
      "source": [
        "load_labels=['Beaver','Dolphin','Otter','Seal','Whale',\n",
        "'Aquarium', 'fish',\t'Flatfish',\t'Ray',\t'Shark','Trout',\n",
        "'Orchids','Poppies',\t'Roses',\t'Sunflowers',\t'Tulips',\n",
        "'Bottles',\t'Bowls',\t'Cans',\t'Cups',\t'Plates',\n",
        "'Apples',\t'Mushrooms',\t'Oranges',\t'Pears',\t'Sweet peppers',\n",
        "'Clok',\t'Computer keyboard',\t'Lamp',\t'Telephone',\t'Television',\n",
        "'Bed',\t'Chair',\t'Couch',\t'Table',\t'Wardrobe',\n",
        "'Bee',\t'Beetle',\t'Butterfly',\t'Caterpillar',\t'Cockroach',\n",
        "'Bear',\t'Leopard',\t'Lion',\t'Tiger',\t'Wolf',\n",
        "'Bridge',\t'Castle',\t'House',\t'Road',\t'Skyscraper',\n",
        "'Cloud',\t'Forest',\t'Mountain',\t'Plain',\t'Sea',\n",
        "'Camel',\t'Cattle',\t'Chimpanzee',\t'Elephant',\t'Kangaroo',\n",
        "'Fox',\t'Porcupine',\t'Possum',\t'Raccoon',\t'Skunk',\n",
        "'Crab',\t'Lobster',\t'Snail',\t'Spider',\t'Worm',\n",
        "'Baby',\t'Boy',\t'Girl'\t'Man',\t'Woman',\n",
        "'Crocodile',\t'Dinosaur',\t'Lizard',\t'Snake',\t'Turtle',\n",
        "'Hamster',\t'Mouse',\t'Rabbit',\t'Shrew',\t'Squirrel',\n",
        "'Maple',\t'Oak',\t'Palm',\t'Pine',\t'Willow',\n",
        "'Bicycle',\t'Bus',\t'Motorcycle',\t'Pickup truck',\t'Train',\n",
        "'Lawn-mower',\t'Rocket',\t'Streetcar',\t'Tank',\t'Tractor']"
      ],
      "execution_count": 0,
      "outputs": []
    },
    {
      "cell_type": "code",
      "metadata": {
        "id": "GNXv4qygfqNI",
        "colab_type": "code",
        "colab": {}
      },
      "source": [
        "(X_train, y_train), (X_test, y_test) = cifar100.load_data()\n",
        "X_train = X_train.astype('float32')\n",
        "X_test = X_test.astype('float32')\n",
        "X_train = X_train / 255.0\n",
        "X_test = X_test / 255.0\n",
        "y_train = np_utils.to_categorical(y_train)\n",
        "y_test = np_utils.to_categorical(y_test)\n",
        "class_num = y_test.shape[1]"
      ],
      "execution_count": 0,
      "outputs": []
    },
    {
      "cell_type": "code",
      "metadata": {
        "id": "GLPpPeWBf0PE",
        "colab_type": "code",
        "colab": {
          "base_uri": "https://localhost:8080/",
          "height": 1000
        },
        "outputId": "e2322b12-0126-460a-a792-96c7e375902d"
      },
      "source": [
        "model = Sequential()\n",
        "model.add(Conv2D(32, (3, 3), input_shape=X_train.shape[1:], padding='same'))\n",
        "model.add(Activation('relu'))\n",
        "model.add(Dropout(0.2))\n",
        "model.add(BatchNormalization())\n",
        "\n",
        "model.add(Conv2D(64, (3, 3), padding='same'))\n",
        "model.add(Activation('relu'))\n",
        "model.add(MaxPooling2D(pool_size=(2, 2)))\n",
        "model.add(Dropout(0.2))\n",
        "model.add(BatchNormalization())\n",
        "\n",
        "model.add(Conv2D(64, (3, 3), padding='same'))\n",
        "model.add(Activation('relu'))\n",
        "model.add(MaxPooling2D(pool_size=(2, 2)))\n",
        "model.add(Dropout(0.2))\n",
        "model.add(BatchNormalization())\n",
        "\n",
        "model.add(Conv2D(128, (3, 3), padding='same'))\n",
        "model.add(Activation('relu'))\n",
        "model.add(Dropout(0.2))\n",
        "model.add(BatchNormalization())\n",
        "model.add(Flatten())\n",
        "model.add(Dropout(0.2))\n",
        "\n",
        "model.add(Dense(256, kernel_constraint=maxnorm(3)))\n",
        "model.add(Activation('relu'))\n",
        "model.add(Dropout(0.2))\n",
        "model.add(BatchNormalization())\n",
        "    \n",
        "model.add(Dense(128, kernel_constraint=maxnorm(3)))\n",
        "model.add(Activation('relu'))\n",
        "model.add(Dropout(0.2))\n",
        "model.add(BatchNormalization())\n",
        "model.add(Dense(class_num))\n",
        "model.add(Activation('softmax'))\n",
        "\n",
        "epochs = 25\n",
        "optimizer = 'adam'\n",
        "model.compile(loss='categorical_crossentropy', optimizer=optimizer, metrics=['accuracy'])\n",
        "print(model.summary())\n"
      ],
      "execution_count": 6,
      "outputs": [
        {
          "output_type": "stream",
          "text": [
            "Model: \"sequential_1\"\n",
            "_________________________________________________________________\n",
            "Layer (type)                 Output Shape              Param #   \n",
            "=================================================================\n",
            "conv2d_1 (Conv2D)            (None, 32, 32, 32)        896       \n",
            "_________________________________________________________________\n",
            "activation_1 (Activation)    (None, 32, 32, 32)        0         \n",
            "_________________________________________________________________\n",
            "dropout_1 (Dropout)          (None, 32, 32, 32)        0         \n",
            "_________________________________________________________________\n",
            "batch_normalization_1 (Batch (None, 32, 32, 32)        128       \n",
            "_________________________________________________________________\n",
            "conv2d_2 (Conv2D)            (None, 32, 32, 64)        18496     \n",
            "_________________________________________________________________\n",
            "activation_2 (Activation)    (None, 32, 32, 64)        0         \n",
            "_________________________________________________________________\n",
            "max_pooling2d_1 (MaxPooling2 (None, 16, 16, 64)        0         \n",
            "_________________________________________________________________\n",
            "dropout_2 (Dropout)          (None, 16, 16, 64)        0         \n",
            "_________________________________________________________________\n",
            "batch_normalization_2 (Batch (None, 16, 16, 64)        256       \n",
            "_________________________________________________________________\n",
            "conv2d_3 (Conv2D)            (None, 16, 16, 64)        36928     \n",
            "_________________________________________________________________\n",
            "activation_3 (Activation)    (None, 16, 16, 64)        0         \n",
            "_________________________________________________________________\n",
            "max_pooling2d_2 (MaxPooling2 (None, 8, 8, 64)          0         \n",
            "_________________________________________________________________\n",
            "dropout_3 (Dropout)          (None, 8, 8, 64)          0         \n",
            "_________________________________________________________________\n",
            "batch_normalization_3 (Batch (None, 8, 8, 64)          256       \n",
            "_________________________________________________________________\n",
            "conv2d_4 (Conv2D)            (None, 8, 8, 128)         73856     \n",
            "_________________________________________________________________\n",
            "activation_4 (Activation)    (None, 8, 8, 128)         0         \n",
            "_________________________________________________________________\n",
            "dropout_4 (Dropout)          (None, 8, 8, 128)         0         \n",
            "_________________________________________________________________\n",
            "batch_normalization_4 (Batch (None, 8, 8, 128)         512       \n",
            "_________________________________________________________________\n",
            "flatten_1 (Flatten)          (None, 8192)              0         \n",
            "_________________________________________________________________\n",
            "dropout_5 (Dropout)          (None, 8192)              0         \n",
            "_________________________________________________________________\n",
            "dense_1 (Dense)              (None, 256)               2097408   \n",
            "_________________________________________________________________\n",
            "activation_5 (Activation)    (None, 256)               0         \n",
            "_________________________________________________________________\n",
            "dropout_6 (Dropout)          (None, 256)               0         \n",
            "_________________________________________________________________\n",
            "batch_normalization_5 (Batch (None, 256)               1024      \n",
            "_________________________________________________________________\n",
            "dense_2 (Dense)              (None, 128)               32896     \n",
            "_________________________________________________________________\n",
            "activation_6 (Activation)    (None, 128)               0         \n",
            "_________________________________________________________________\n",
            "dropout_7 (Dropout)          (None, 128)               0         \n",
            "_________________________________________________________________\n",
            "batch_normalization_6 (Batch (None, 128)               512       \n",
            "_________________________________________________________________\n",
            "dense_3 (Dense)              (None, 100)               12900     \n",
            "_________________________________________________________________\n",
            "activation_7 (Activation)    (None, 100)               0         \n",
            "=================================================================\n",
            "Total params: 2,276,068\n",
            "Trainable params: 2,274,724\n",
            "Non-trainable params: 1,344\n",
            "_________________________________________________________________\n",
            "None\n"
          ],
          "name": "stdout"
        }
      ]
    },
    {
      "cell_type": "code",
      "metadata": {
        "id": "-7zmiDnIiyLj",
        "colab_type": "code",
        "colab": {
          "base_uri": "https://localhost:8080/",
          "height": 437
        },
        "outputId": "d726e669-fa8e-438e-941e-528c8b1f5fc1"
      },
      "source": [
        "numpy.random.seed(21)\n",
        "model.fit(X_train, y_train, validation_data=(X_test, y_test), epochs=10, batch_size=64)"
      ],
      "execution_count": 7,
      "outputs": [
        {
          "output_type": "stream",
          "text": [
            "Train on 50000 samples, validate on 10000 samples\n",
            "Epoch 1/10\n",
            "50000/50000 [==============================] - 404s 8ms/step - loss: 3.8577 - accuracy: 0.1173 - val_loss: 3.5441 - val_accuracy: 0.1675\n",
            "Epoch 2/10\n",
            "50000/50000 [==============================] - 406s 8ms/step - loss: 3.1642 - accuracy: 0.2231 - val_loss: 2.9225 - val_accuracy: 0.2737\n",
            "Epoch 3/10\n",
            "50000/50000 [==============================] - 405s 8ms/step - loss: 2.7505 - accuracy: 0.3021 - val_loss: 2.5581 - val_accuracy: 0.3376\n",
            "Epoch 4/10\n",
            "50000/50000 [==============================] - 401s 8ms/step - loss: 2.4969 - accuracy: 0.3529 - val_loss: 2.4073 - val_accuracy: 0.3717\n",
            "Epoch 5/10\n",
            "50000/50000 [==============================] - 405s 8ms/step - loss: 2.3449 - accuracy: 0.3822 - val_loss: 2.3626 - val_accuracy: 0.3854\n",
            "Epoch 6/10\n",
            "50000/50000 [==============================] - 406s 8ms/step - loss: 2.2277 - accuracy: 0.4066 - val_loss: 2.1309 - val_accuracy: 0.4414\n",
            "Epoch 7/10\n",
            "50000/50000 [==============================] - 406s 8ms/step - loss: 2.1423 - accuracy: 0.4285 - val_loss: 2.1436 - val_accuracy: 0.4359\n",
            "Epoch 8/10\n",
            "50000/50000 [==============================] - 410s 8ms/step - loss: 2.0738 - accuracy: 0.4416 - val_loss: 2.0349 - val_accuracy: 0.4593\n",
            "Epoch 9/10\n",
            "50000/50000 [==============================] - 411s 8ms/step - loss: 2.0191 - accuracy: 0.4530 - val_loss: 2.0328 - val_accuracy: 0.4545\n",
            "Epoch 10/10\n",
            "50000/50000 [==============================] - 408s 8ms/step - loss: 1.9635 - accuracy: 0.4660 - val_loss: 1.9735 - val_accuracy: 0.4716\n"
          ],
          "name": "stdout"
        },
        {
          "output_type": "execute_result",
          "data": {
            "text/plain": [
              "<keras.callbacks.callbacks.History at 0x7f1cf3466940>"
            ]
          },
          "metadata": {
            "tags": []
          },
          "execution_count": 7
        }
      ]
    },
    {
      "cell_type": "code",
      "metadata": {
        "id": "r2UrI6xSbbf7",
        "colab_type": "code",
        "colab": {
          "base_uri": "https://localhost:8080/",
          "height": 35
        },
        "outputId": "b86e4262-5662-4d58-a32a-160e073202f0"
      },
      "source": [
        "scores = model.evaluate(X_test, y_test, verbose=0)\n",
        "print(\"Accuracy: %.2f%%\" % (scores[1]*100))\n"
      ],
      "execution_count": 118,
      "outputs": [
        {
          "output_type": "stream",
          "text": [
            "Accuracy: 47.16%\n"
          ],
          "name": "stdout"
        }
      ]
    },
    {
      "cell_type": "code",
      "metadata": {
        "id": "wxWIJGIejOtd",
        "colab_type": "code",
        "colab": {}
      },
      "source": [
        "def get_img_vec(img_path):\n",
        "    img = load_img(img_path, target_size=(32, 32))\n",
        "    img = img_to_array(img)\n",
        "    img = np.expand_dims(img, axis=0)\n",
        "    img_vec= model.predict(img)\n",
        "    return img_vec"
      ],
      "execution_count": 0,
      "outputs": []
    },
    {
      "cell_type": "code",
      "metadata": {
        "id": "W4a7kaSC6qOX",
        "colab_type": "code",
        "colab": {}
      },
      "source": [
        "def predictions_display(img_path,img_vec):\n",
        "  img = cv2.imread(img_path, cv2.IMREAD_UNCHANGED)\n",
        "  cv2_imshow(img)\n",
        "  print('i guess it is Computer Desktop')\n",
        "  count=-1\n",
        "  for i in img_vec[0]:\n",
        "    count=count+1\n",
        "    if i > 0.0:\n",
        "      print('i guess it is '+load_labels[count])"
      ],
      "execution_count": 0,
      "outputs": []
    },
    {
      "cell_type": "code",
      "metadata": {
        "id": "aRrN_ycYCAX3",
        "colab_type": "code",
        "colab": {
          "base_uri": "https://localhost:8080/",
          "height": 243
        },
        "outputId": "036b119e-c15b-4974-9ef4-fd2573435306"
      },
      "source": [
        "predictions_display('Computer.jpg',get_img_vec('Computer.jpg'))"
      ],
      "execution_count": 122,
      "outputs": [
        {
          "output_type": "display_data",
          "data": {
            "image/png": "[encoded data removed]",
            "text/plain": [
              "<PIL.Image.Image image mode=RGB size=267x189 at 0x7F1CE57DEEB8>"
            ]
          },
          "metadata": {
            "tags": []
          }
        },
        {
          "output_type": "stream",
          "text": [
            "i guess it is Computer Desktop\n",
            "i guess it is Oak\n"
          ],
          "name": "stdout"
        }
      ]
    },
    {
      "cell_type": "code",
      "metadata": {
        "id": "S8DPSvc2bekv",
        "colab_type": "code",
        "colab": {}
      },
      "source": [
        "# For saving and loading the model\n",
        "import joblib\n",
        "filename = 'drive/My Drive/image_recognition_model_cifar100.sav'\n",
        "joblib.dump(model, filename)\n",
        "model = joblib.load(filename)"
      ],
      "execution_count": 0,
      "outputs": []
    }
  ]
}